{
 "cells": [
  {
   "cell_type": "markdown",
   "metadata": {},
   "source": [
    "#### 1. How would you define Machine Learning?\n",
    "Machine Learning is in laments terms, using a lot of data in a specific field to make predictions about possible future events, values, or to categorize a value. Machine Learning uses algorithms in order to compute values which will then be an indicator of a value that the designer may then be interested in."
   ]
  },
  {
   "cell_type": "markdown",
   "metadata": {},
   "source": [
    "#### 2. Can you name four types of problems where it shines?\n",
    "1. Image Classification\n",
    "2. Unsupervised learning predicting what someone will or will not like (Netflix)\n",
    "3. Prediction of future events such as stock value\n",
    "4. Classification of Spam or not Spam in our emails"
   ]
  },
  {
   "cell_type": "markdown",
   "metadata": {},
   "source": [
    "#### 3. What is a labeled training set?\n",
    "A labeled training set is where you have a training set with categories (X) and labels (y) the categories point to a specific email. An example of this is having a dataset where X is the actual email and y is the indicator of whether or not the given email is spam"
   ]
  },
  {
   "cell_type": "markdown",
   "metadata": {},
   "source": [
    "#### 4. What are the two most common supervised tasks?\n",
    "\n",
    "(Guess)\n",
    "1. Logistic Regression\n",
    "2. Linear Regression"
   ]
  },
  {
   "cell_type": "markdown",
   "metadata": {},
   "source": [
    "#### 5. Can you name for common unsupervised tasks\n",
    "(Guess)\n",
    "1. Clustering: Grouping individual categories such as horror, action, drama, and indie films"
   ]
  },
  {
   "cell_type": "markdown",
   "metadata": {},
   "source": [
    "#### 6. What type of Machine Learning algorithm would you use to allow a robot to walk in various unkown terrains?\n",
    "\n",
    "Reinforcement learning (Don't know exactly how this works but have a slight idea)"
   ]
  },
  {
   "cell_type": "markdown",
   "metadata": {},
   "source": [
    "#### 7. What type of algorithm would you use to segment your customers into multiple groups?\n",
    "Clustering algorithm"
   ]
  },
  {
   "cell_type": "markdown",
   "metadata": {},
   "source": [
    "#### 8. Would you frame the problem of spam detection as a supervised learning problem or an unsupervised learning problem?\n",
    "I would frame it as a supervised learning problem"
   ]
  },
  {
   "cell_type": "markdown",
   "metadata": {},
   "source": [
    "#### 9. What is an online learning system?\n",
    "An online learning system is where new data continuosly comes in online that can be analyzed once it has been added online. An example of this is Twitter users adding new tweets."
   ]
  },
  {
   "cell_type": "markdown",
   "metadata": {},
   "source": [
    "#### 10. What is Out-of-core learning?\n",
    "(Had to look at the answer)\n",
    "Out of core learning is where there is so much data it cannot fit in a computer's main memory. It chops the data into mini batches and uses online learning to learn from mini-batches."
   ]
  },
  {
   "cell_type": "markdown",
   "metadata": {},
   "source": [
    "#### 11. What type of learning algorithm relies on a similarity measure to make predictions?\n",
    "No idea"
   ]
  },
  {
   "cell_type": "markdown",
   "metadata": {},
   "source": [
    "#### 12. What is the difference between a model parameter and a learning algorithm's hyperparameter?\n",
    "Model parameters are actually learned through the learning algorithms. Hyperparameters are generally put in manually by the programmer and fine tuned to get the output that you desire."
   ]
  },
  {
   "cell_type": "markdown",
   "metadata": {},
   "source": [
    "#### 13. What do model-based learning algorithms search for? What is the most common strategy they use to succeed? How do they make predictions?\n",
    "Optimal values for the model parameters so that it will work for new instances. We pass in the new models into the prediction function and use the parameter values found by the learning algorithm"
   ]
  },
  {
   "cell_type": "markdown",
   "metadata": {},
   "source": [
    "#### 14. What are the four main challenges in Machine Learning?\n",
    "1. Lack of data\n",
    "2. Poor quality data\n",
    "3. Nonrepresentative data\n",
    "4. Uninformative features\n",
    "5. Oversimplified model that underfits and Overcomplex models that overfit"
   ]
  },
  {
   "cell_type": "markdown",
   "metadata": {},
   "source": [
    "#### 15. The model performs well on training data but generalizes poorly to new data what is happening? Name three possible solutions\n",
    "It is overfitting to the training data. Three solutions are\n",
    "1. Get more data\n",
    "2. Regularize the data\n",
    "3. Reduce the number of parameters"
   ]
  },
  {
   "cell_type": "markdown",
   "metadata": {},
   "source": [
    "#### 16. What is a test set and why would you want to use it?\n",
    "A test set is a set of data that the training set has not yet looked at. It is important to use because you want to make sure that your learning algorithm is not overfitting to the training set or underfitting the training set."
   ]
  },
  {
   "cell_type": "markdown",
   "metadata": {},
   "source": [
    "#### 17. What is the purpose of a validation set?\n",
    "A validation set is used to make sure that you are not overfitting or underfitting the data using your learning algorithm. It is a way to fine tune your hyperparameters so that it gives an optimal output for the training and validation set. "
   ]
  },
  {
   "cell_type": "markdown",
   "metadata": {},
   "source": [
    "#### 18. What can go wrong if you tune hyperparameters using the test set?\n",
    "You will most likely overfit to the test set."
   ]
  },
  {
   "cell_type": "markdown",
   "metadata": {},
   "source": [
    "#### 19. What is cross-validation and why is it better than using a validation set?\n",
    "Cross validation is a way that makes it possible to compare models without the need for a seperate validation set. This allows more data to be used in the training set instead of taking some out for the validation set."
   ]
  },
  {
   "cell_type": "code",
   "execution_count": null,
   "metadata": {
    "collapsed": true
   },
   "outputs": [],
   "source": []
  }
 ],
 "metadata": {
  "kernelspec": {
   "display_name": "Python 3",
   "language": "python",
   "name": "python3"
  },
  "language_info": {
   "codemirror_mode": {
    "name": "ipython",
    "version": 3
   },
   "file_extension": ".py",
   "mimetype": "text/x-python",
   "name": "python",
   "nbconvert_exporter": "python",
   "pygments_lexer": "ipython3",
   "version": "3.6.1"
  }
 },
 "nbformat": 4,
 "nbformat_minor": 2
}
