{
 "cells": [
  {
   "cell_type": "markdown",
   "metadata": {},
   "source": [
    "#### 1. How would you define Machine Learning?\n",
    "Machine Learning is in laments terms, using a lot of data in a specific field to make predictions about possible future events, values, or to categorize a value. Machine Learning uses algorithms in order to compute values which will then be an indicator of a value that the designer may then be interested in."
   ]
  },
  {
   "cell_type": "markdown",
   "metadata": {},
   "source": [
    "#### 2. Can you name four types of problems where it shines?\n",
    "1. Image Classification\n",
    "2. Unsupervised learning predicting what someone will or will not like (Netflix)\n",
    "3. Prediction of future events such as stock value\n",
    "4. Classification of Spam or not Spam in our emails"
   ]
  },
  {
   "cell_type": "markdown",
   "metadata": {},
   "source": [
    "#### 3. What is a labeled training set?\n",
    "A labeled training set is where you have a training set with categories (X) and labels (y) the categories point to a specific email. An example of this is having a dataset where X is the actual email and y is the indicator of whether or not the given email is spam"
   ]
  },
  {
   "cell_type": "markdown",
   "metadata": {},
   "source": [
    "#### 4. What are the two most common supervised tasks?\n",
    "\n",
    "(Guess)\n",
    "1. Logistic Regression\n",
    "2. Linear Regression"
   ]
  },
  {
   "cell_type": "markdown",
   "metadata": {},
   "source": [
    "#### 5. Can you name for common unsupervised tasks\n",
    "(Guess)\n",
    "1. Clustering: Grouping individual categories such as horror, action, drama, and indie films"
   ]
  },
  {
   "cell_type": "markdown",
   "metadata": {},
   "source": [
    "#### 6. What type of Machine Learning algorithm would you use to allow a robot to walk in various unkown terrains?\n",
    "\n",
    "Reinforcement learning (Don't know exactly how this works but have a slight idea)"
   ]
  },
  {
   "cell_type": "markdown",
   "metadata": {},
   "source": [
    "#### 7. What type of algorithm would you use to segment your customers into multiple groups?\n",
    "Clustering algorithm"
   ]
  },
  {
   "cell_type": "markdown",
   "metadata": {},
   "source": [
    "#### 8. Would you frame the problem of spam detection as a supervised learning problem or an unsupervised learning problem?\n",
    "I would frame it as a supervised learning problem"
   ]
  },
  {
   "cell_type": "code",
   "execution_count": null,
   "metadata": {
    "collapsed": true
   },
   "outputs": [],
   "source": []
  }
 ],
 "metadata": {
  "kernelspec": {
   "display_name": "Python 3",
   "language": "python",
   "name": "python3"
  },
  "language_info": {
   "codemirror_mode": {
    "name": "ipython",
    "version": 3
   },
   "file_extension": ".py",
   "mimetype": "text/x-python",
   "name": "python",
   "nbconvert_exporter": "python",
   "pygments_lexer": "ipython3",
   "version": "3.6.1"
  }
 },
 "nbformat": 4,
 "nbformat_minor": 2
}
